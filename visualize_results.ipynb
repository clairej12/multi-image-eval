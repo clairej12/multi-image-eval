version https://git-lfs.github.com/spec/v1
oid sha256:0e83ff14ecbdb51831cc355f9e2f203c853a1244171c917b923b1d744bb4f6be
size 306539253
